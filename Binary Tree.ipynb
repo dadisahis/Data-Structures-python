{
 "cells": [
  {
   "cell_type": "code",
   "execution_count": null,
   "metadata": {},
   "outputs": [],
   "source": [
    "class Node:\n",
    "    def __init__(self,val):\n",
    "        self.val=val\n",
    "        self.left=None\n",
    "        self.right=None\n",
    "\n",
    "class BinaryTree:\n",
    "    def __init__(self,val):\n",
    "        self.val=Node(val)\n",
    "    \n"
   ]
  },
  {
   "cell_type": "markdown",
   "metadata": {},
   "source": [
    "Binary Tree Postorder Traversal"
   ]
  },
  {
   "cell_type": "markdown",
   "metadata": {},
   "source": [
    "#### Recursive"
   ]
  },
  {
   "cell_type": "code",
   "execution_count": null,
   "metadata": {},
   "outputs": [],
   "source": [
    "# Definition for a binary tree node.\n",
    "# class TreeNode(object):\n",
    "#     def __init__(self, val=0, left=None, right=None):\n",
    "#         self.val = val\n",
    "#         self.left = left\n",
    "#         self.right = right\n",
    "class Solution(object):\n",
    "    def postorder(self,root,result):\n",
    "        if root ==None:\n",
    "            return []\n",
    "        self.postorder(root.left,result)\n",
    "        self.postorder(root.right,result)\n",
    "        result.append(root.val)\n",
    "        return result\n",
    "    def postorderTraversal(self, root):\n",
    "        \"\"\"\n",
    "        :type root: TreeNode\n",
    "        :rtype: List[int]\n",
    "        \"\"\"\n",
    "        result=[]\n",
    "        result_arr=self.postorder(root,result)\n",
    "        return result_arr\n",
    "        "
   ]
  },
  {
   "cell_type": "markdown",
   "metadata": {},
   "source": [
    "#### Iterative 2 stacks\n"
   ]
  },
  {
   "cell_type": "code",
   "execution_count": 1,
   "metadata": {},
   "outputs": [],
   "source": [
    "class Solution(object):\n",
    "    def postorderTraversal(self, root):\n",
    "        \"\"\"\n",
    "        :type root: TreeNode\n",
    "        :rtype: List[int]\n",
    "        \"\"\"\n",
    "        stack1=[]\n",
    "        stack2=[]\n",
    "        result=[]\n",
    "        if root!=None:\n",
    "            stack1.append(root)\n",
    "        while stack1 != []:\n",
    "            node=stack1.pop()\n",
    "            stack2.append(node)\n",
    "            if node.left != None:\n",
    "                stack1.append(node.left)\n",
    "            if node.right != None:\n",
    "                stack1.append(node.right)\n",
    "        while stack2!=[]:\n",
    "            node=stack2.pop()\n",
    "            result.append(node.val)\n",
    "        return result\n",
    "        "
   ]
  },
  {
   "cell_type": "markdown",
   "metadata": {},
   "source": [
    "#### Iterative One stack"
   ]
  },
  {
   "cell_type": "code",
   "execution_count": null,
   "metadata": {},
   "outputs": [],
   "source": [
    "# Definition for a binary tree node.\n",
    "# class TreeNode(object):\n",
    "#     def __init__(self, val=0, left=None, right=None):\n",
    "#         self.val = val\n",
    "#         self.left = left\n",
    "#         self.right = right\n",
    "class Solution(object):\n",
    "    def postorderTraversal(self, root):\n",
    "        \"\"\"\n",
    "        :type root: TreeNode\n",
    "        :rtype: List[int]\n",
    "        \"\"\"\n",
    "        stack=[]\n",
    "        result=[]\n",
    "        while root!=None or stack !=[]:\n",
    "            if root!=None:\n",
    "                stack.append(root)\n",
    "                root=root.left\n",
    "            else:\n",
    "                temp=stack[-1].right\n",
    "                if temp==None:\n",
    "                    temp=stack.pop()\n",
    "                    result.append(temp.val)\n",
    "                    while(stack!=[] and stack[-1].right==temp):\n",
    "                        temp=stack.pop()\n",
    "                        result.append(temp.val)\n",
    "                else:\n",
    "                    root=temp\n",
    "        \n",
    "        return result"
   ]
  },
  {
   "cell_type": "markdown",
   "metadata": {},
   "source": [
    "### Maximum depth of binary tree"
   ]
  },
  {
   "cell_type": "markdown",
   "metadata": {},
   "source": [
    "### recursive"
   ]
  },
  {
   "cell_type": "code",
   "execution_count": null,
   "metadata": {},
   "outputs": [],
   "source": [
    "# Definition for a binary tree node.\n",
    "# class TreeNode(object):\n",
    "#     def __init__(self, val=0, left=None, right=None):\n",
    "#         self.val = val\n",
    "#         self.left = left\n",
    "#         self.right = right\n",
    "class Solution(object):\n",
    "    def maxDepth(self, root):\n",
    "        \"\"\"\n",
    "        :type root: TreeNode\n",
    "        :rtype: int\n",
    "        \"\"\"\n",
    "        if root==None:\n",
    "            return 0\n",
    "        lh=self.maxDepth(root.left)\n",
    "        rh=self.maxDepth(root.right)\n",
    "        return 1+max(lh,rh)"
   ]
  },
  {
   "cell_type": "markdown",
   "metadata": {},
   "source": [
    "### Iterative using breadth first search/level order"
   ]
  },
  {
   "cell_type": "code",
   "execution_count": null,
   "metadata": {},
   "outputs": [],
   "source": [
    "# Definition for a binary tree node.\n",
    "# class TreeNode(object):\n",
    "#     def __init__(self, val=0, left=None, right=None):\n",
    "#         self.val = val\n",
    "#         self.left = left\n",
    "#         self.right = right\n",
    "class Solution(object):\n",
    "    def maxDepth(self, root):\n",
    "        \"\"\"\n",
    "        :type root: TreeNode\n",
    "        :rtype: int\n",
    "        \"\"\"\n",
    "        queue=[]\n",
    "        height=0\n",
    "        if root!=None:\n",
    "            queue.append(root)\n",
    "        while queue!=[]:\n",
    "            arr=[]\n",
    "            size=len(queue)\n",
    "            for i in range(size):\n",
    "                if queue!=[] and queue[0].left!=None:\n",
    "                    queue.append(queue[0].left)\n",
    "                if queue!=[] and queue[0].right!=None:\n",
    "                    queue.append(queue[0].right)\n",
    "                del queue[0]\n",
    "            height+=1\n",
    "        return height"
   ]
  },
  {
   "cell_type": "markdown",
   "metadata": {},
   "source": [
    "#### Balanced Binary Tree"
   ]
  },
  {
   "cell_type": "code",
   "execution_count": null,
   "metadata": {},
   "outputs": [],
   "source": [
    "# Definition for a binary tree node.\n",
    "# class TreeNode(object):\n",
    "#     def __init__(self, val=0, left=None, right=None):\n",
    "#         self.val = val\n",
    "#         self.left = left\n",
    "#         self.right = right\n",
    "class Solution(object):\n",
    "    def check(self,root):\n",
    "        if root == None:\n",
    "            return 0\n",
    "        lh=self.check(root.left)\n",
    "        rh=self.check(root.right)\n",
    "        if lh==-1 or rh==-1:\n",
    "            return -1\n",
    "        if abs(lh-rh)>1:\n",
    "            return -1\n",
    "        return 1+max(lh,rh)\n",
    "    def isBalanced(self, root):\n",
    "        \"\"\"\n",
    "        :type root: TreeNode\n",
    "        :rtype: bool\n",
    "        \"\"\"\n",
    "        height=self.check(root)\n",
    "        if height>-1:\n",
    "            return True\n",
    "        else:\n",
    "            return False"
   ]
  },
  {
   "cell_type": "markdown",
   "metadata": {},
   "source": [
    "#### Diameter of Binary Tree"
   ]
  },
  {
   "cell_type": "code",
   "execution_count": null,
   "metadata": {},
   "outputs": [],
   "source": [
    "# Definition for a binary tree node.\n",
    "# class TreeNode(object):\n",
    "#     def __init__(self, val=0, left=None, right=None):\n",
    "#         self.val = val\n",
    "#         self.left = left\n",
    "#         self.right = right\n",
    "class Solution(object):\n",
    "    def calculateDiameter(self,root,maxi):\n",
    "        if root==None:\n",
    "            return 0\n",
    "        lh=self.calculateDiameter(root.left,self.maxi)\n",
    "        rh=self.calculateDiameter(root.right,self.maxi)\n",
    "        self.maxi=max(self.maxi,lh+rh)\n",
    "        return 1+max(lh,rh)\n",
    "    def diameterOfBinaryTree(self, root):\n",
    "        \"\"\"\n",
    "        :type root: TreeNode\n",
    "        :rtype: int\n",
    "        \"\"\"\n",
    "        self.maxi=0\n",
    "        height=self.calculateDiameter(root,self.maxi)\n",
    "        return self.maxi\n",
    "        "
   ]
  },
  {
   "cell_type": "markdown",
   "metadata": {},
   "source": [
    "### MAximum Width of BT"
   ]
  },
  {
   "cell_type": "code",
   "execution_count": null,
   "metadata": {},
   "outputs": [],
   "source": [
    "# Definition for a binary tree node.\n",
    "# class TreeNode(object):\n",
    "#     def __init__(self, val=0, left=None, right=None):\n",
    "#         self.val = val\n",
    "#         self.left = left\n",
    "#         self.right = right\n",
    "class Solution(object):\n",
    "    def widthOfBinaryTree(self, root):\n",
    "        \"\"\"\n",
    "        :type root: TreeNode\n",
    "        :rtype: int\n",
    "        \"\"\"\n",
    "        queue=[]\n",
    "        ans=0\n",
    "        if root!=None:\n",
    "            queue.append((root,0))\n",
    "        while queue!=[]:\n",
    "            size=len(queue)\n",
    "            min_node_val=queue[0][1]\n",
    "            first=0\n",
    "            last=0\n",
    "            for i in range(size):\n",
    "                node=queue.pop(0)\n",
    "                curr_id=node[1]\n",
    "                if i==0:\n",
    "                    first=curr_id\n",
    "                if i==size-1:\n",
    "                    last=curr_id\n",
    "                if node[0].left!=None:\n",
    "                    queue.append((node[0].left,curr_id*2+1))\n",
    "                if node[0].right!=None:\n",
    "                    queue.append((node[0].right,curr_id*2+2))\n",
    "            ans=max(ans,last-first+1)\n",
    "        return ans\n",
    "        "
   ]
  },
  {
   "cell_type": "markdown",
   "metadata": {},
   "source": [
    "### Children Sum Property"
   ]
  },
  {
   "cell_type": "code",
   "execution_count": null,
   "metadata": {},
   "outputs": [],
   "source": [
    "'''\n",
    "\n",
    "    Following is the Binary Tree node structure\n",
    "    \n",
    "    class BinaryTreeNode:\n",
    "        def __init__(self, data):\n",
    "            self.data = data\n",
    "            self.left = None\n",
    "            self.right = None\n",
    "\n",
    "'''\n",
    "        \n",
    "def changeTree(root): \n",
    "    # Write your code here.\n",
    "    # Traversal towards bottom\n",
    "    if root==None:\n",
    "        return None\n",
    "    child=0\n",
    "    if root.left!=None:\n",
    "   \t\tchild+=root.left.data\n",
    "    if root.right!=None:\n",
    "   \t\tchild+=root.right.data\n",
    "    if child >= root.data:\n",
    "        root.data=child\n",
    "    else:\n",
    "        if root.left!=None:\n",
    "            root.left.data=root.data\n",
    "        elif root.right!=None:\n",
    "            root.right.data=root.data\n",
    "    changeTree(root.left)\n",
    "    changeTree(root.right)\n",
    "\n",
    "    #bakctracking or summing of child and updating the root\n",
    "    tot=0\n",
    "    if root.left!=None:\n",
    "        tot+=root.left.data\n",
    "    if root.right!=None:\n",
    "        tot+=root.right.data\n",
    "    if root.left!=None or root.right!=None:\n",
    "        root.data=tot\n",
    "   "
   ]
  },
  {
   "cell_type": "markdown",
   "metadata": {},
   "source": [
    "### All Nodes Distance K in Binary Tree"
   ]
  },
  {
   "cell_type": "code",
   "execution_count": null,
   "metadata": {},
   "outputs": [],
   "source": [
    "# Definition for a binary tree node.\n",
    "# class TreeNode(object):\n",
    "#     def __init__(self, x):\n",
    "#         self.val = x\n",
    "#         self.left = None\n",
    "#         self.right = None\n",
    "\n",
    "class Solution(object):\n",
    "    def distanceK(self, root, target, k):\n",
    "        \"\"\"\n",
    "        :type root: TreeNode\n",
    "        :type target: TreeNode\n",
    "        :type k: int\n",
    "        :rtype: List[int]\n",
    "        \"\"\"\n",
    "        self.parent={}\n",
    "        self.getParent(root,None)\n",
    "        return self.bfs(target,k)\n",
    "    def getParent(self,node,parent):\n",
    "        if node==None:\n",
    "            return\n",
    "        self.parent[node.val]=parent\n",
    "        self.getParent(node.left,node)\n",
    "        self.getParent(node.right,node)\n",
    "    def bfs(self,target,k):\n",
    "        queue=[]\n",
    "        result=[]\n",
    "        visited=set()\n",
    "        if target:\n",
    "            queue.append((target,0))\n",
    "        while queue!=[]:\n",
    "            n,d=queue.pop(0)\n",
    "            if n not in visited:\n",
    "                if d==k:\n",
    "                    result.append(n.val)\n",
    "                visited.add(n)\n",
    "                if n.left:\n",
    "                    queue.append((n.left,d+1))\n",
    "                if n.right:\n",
    "                    queue.append((n.right,d+1))\n",
    "                if self.parent[n.val]:\n",
    "                    queue.append((self.parent[n.val],d+1))\n",
    "        return result"
   ]
  },
  {
   "cell_type": "markdown",
   "metadata": {},
   "source": [
    "### Count Complete Tree Nodes"
   ]
  },
  {
   "cell_type": "code",
   "execution_count": null,
   "metadata": {},
   "outputs": [],
   "source": [
    "# Definition for a binary tree node.\n",
    "# class TreeNode(object):\n",
    "#     def __init__(self, val=0, left=None, right=None):\n",
    "#         self.val = val\n",
    "#         self.left = left\n",
    "#         self.right = right\n",
    "class Solution(object):\n",
    "    def countNodes(self, root):\n",
    "        \"\"\"\n",
    "        :type root: TreeNode\n",
    "        :rtype: int\n",
    "        \"\"\"\n",
    "        if root==None:\n",
    "            return 0\n",
    "        lh=self.leftHeight(root)\n",
    "        rh=self.rightHeight(root)\n",
    "        if lh==rh:\n",
    "            return 2**(lh) - 1\n",
    "        else:\n",
    "            return 1 + self.countNodes(root.left) + self.countNodes(root.right)\n",
    "    def leftHeight(self,root):\n",
    "        height=0\n",
    "        while root:\n",
    "            height+=1\n",
    "            root=root.left\n",
    "        return height\n",
    "    def rightHeight(self,root):\n",
    "        height=0\n",
    "        while root:\n",
    "            height+=1\n",
    "            root=root.right\n",
    "        return height"
   ]
  },
  {
   "cell_type": "markdown",
   "metadata": {},
   "source": [
    "### Recover Binary Search Tree"
   ]
  },
  {
   "cell_type": "code",
   "execution_count": null,
   "metadata": {},
   "outputs": [],
   "source": [
    "# Definition for a binary tree node.\n",
    "# class TreeNode(object):\n",
    "#     def __init__(self, val=0, left=None, right=None):\n",
    "#         self.val = val\n",
    "#         self.left = left\n",
    "#         self.right = right\n",
    "class Solution(object):\n",
    "    def inorder(self,root):\n",
    "        if root==None:\n",
    "            return None\n",
    "        self.inorder(root.left)\n",
    "        if self.prev !=None and root.val< self.prev.val:\n",
    "            if self.first==None:\n",
    "                self.first=self.prev\n",
    "                self.middle=root\n",
    "            else:\n",
    "                self.last=root\n",
    "        \n",
    "        self.prev=root\n",
    "        self.inorder(root.right)\n",
    "    def recoverTree(self, root):\n",
    "        \"\"\"\n",
    "        :type root: TreeNode\n",
    "        :rtype: None Do not return anything, modify root in-place instead.\n",
    "        \"\"\"\n",
    "        self.first=None\n",
    "        self.middle=None\n",
    "        self.last=None\n",
    "        self.prev=TreeNode(float('-inf'))\n",
    "        self.inorder(root)\n",
    "        if self.first!=None and self.last!=None:\n",
    "            t=self.first.val\n",
    "            self.first.val=self.last.val\n",
    "            self.last.val=t \n",
    "        elif self.first!=None and self.middle!=None:\n",
    "            t=self.first.val\n",
    "            self.first.val = self.middle.val\n",
    "            self.middle.val=t\n",
    "        \n",
    "        "
   ]
  }
 ],
 "metadata": {
  "interpreter": {
   "hash": "c96291010f7a844ee02fb384facd57d68384d0c55b508665bf5452864442687c"
  },
  "kernelspec": {
   "display_name": "Python 3.9.9 64-bit",
   "language": "python",
   "name": "python3"
  },
  "language_info": {
   "codemirror_mode": {
    "name": "ipython",
    "version": 3
   },
   "file_extension": ".py",
   "mimetype": "text/x-python",
   "name": "python",
   "nbconvert_exporter": "python",
   "pygments_lexer": "ipython3",
   "version": "3.9.9"
  },
  "orig_nbformat": 4
 },
 "nbformat": 4,
 "nbformat_minor": 2
}
