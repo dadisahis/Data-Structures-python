{
 "cells": [
  {
   "cell_type": "code",
   "execution_count": null,
   "metadata": {},
   "outputs": [],
   "source": [
    "class MinHeap: \n",
    "    def __init__(self,array):\n",
    "        self.heap = self.buildHeap(array)\n",
    "    \n",
    "    def buildHeap(self,array):\n",
    "        firstParentIdx = (len(array)-2)//2\n",
    "        for idx in reversed(range(firstParentIdx+1)):\n",
    "            self.siftDown(idx,len(array)-1,array)\n",
    "        return array\n",
    "    def siftDown(self, idx,endIdx,heap):\n",
    "        child1 = 2*idx + 1\n",
    "        while child1 <= endIdx:\n",
    "            child2 = 2*idx + 2 if 2*idx + 2 <= endIdx else -1\n",
    "            if child2 != -1 and heap[child2] < heap[child1]:\n",
    "                idxtoSwap = child2\n",
    "            else:\n",
    "                idxtoSwap = child1\n",
    "            if heap[idxtoSwap] < heap[idx]:\n",
    "                self.swap(idxtoSwap,idx,heap)\n",
    "                idx = idxtoSwap\n",
    "                child1 = 2*idx +1\n",
    "            else:\n",
    "                return\n",
    "    def siftUp(self,idx,heap):\n",
    "        parent = (idx - 1) // 2\n",
    "        while idx > 0 and heap[parent] > heap[idx]:\n",
    "            self.swap(parent,idx,heap)\n",
    "            idx = parent\n",
    "            parent = (idx -1)//2\n",
    "    def peek(self):\n",
    "        return self.peek[0]\n",
    "    def remove(self):\n",
    "        self.swap(0,len(self.heap)-1,self.heap)\n",
    "        valueRemoved = self.heap.pop()\n",
    "        self.siftDown(0,len(self.heap)-1,self.heap)\n",
    "        return valueRemoved\n",
    "\n",
    "    def insert(self,value):\n",
    "        self.heap.append(value)\n",
    "        self.siftUp(len(self.heap)-1,self.heap)\n",
    "    def swap(self,elem1,elem2,heap):\n",
    "        heap[elem1],heap[elem2]=heap[elem2],heap[elem1]\n"
   ]
  },
  {
   "cell_type": "markdown",
   "metadata": {},
   "source": [
    "## Heap Sort"
   ]
  },
  {
   "cell_type": "code",
   "execution_count": null,
   "metadata": {},
   "outputs": [],
   "source": [
    "'''\n",
    "Intuition :\n",
    "1. Build Max Heap\n",
    "2. swap last element with first element\n",
    "3. sift down the first element to endIdx - 1\n",
    "'''\n",
    "\n",
    "def swap(elem1,elem2,array):\n",
    "    array[elem1],array[elem2] = array[elem2],array[elem1]\n",
    "    return array\n",
    "\n",
    "def siftDown(array,currIdx,endIdx):\n",
    "    child1 = 2*currIdx + 1\n",
    "    while child1 <= endIdx:\n",
    "        child2 = 2*currIdx + 2 if 2*currIdx + 2 <= endIdx else -1\n",
    "        if child2!=-1 and array[child2]>array[child1]:\n",
    "            indexToSwap = child2\n",
    "        else:\n",
    "            indexToSwap = child1\n",
    "        if array[indexToSwap]> array[currIdx]:\n",
    "            array = swap(indexToSwap,currIdx,array)\n",
    "            currIdx = indexToSwap\n",
    "            child1 = 2*currIdx + 1\n",
    "        else: \n",
    "            break\n",
    "    return array\n",
    "            \n",
    "    \n",
    "def buildHeap(array):\n",
    "    firstParent = (len(array)-2) //2\n",
    "    for idx in reversed(range(firstParent+1)):\n",
    "        array = siftDown(array,idx,len(array)-1)\n",
    "    return array\n",
    "\n",
    "def heapSort(array):\n",
    "    # Write your code here.\n",
    "    array = buildHeap(array)\n",
    "    for endIdx in range(len(array)-1,0,-1):\n",
    "        array = swap(0,endIdx,array)\n",
    "        array = siftDown(array,0,endIdx-1)\n",
    "    return array"
   ]
  },
  {
   "cell_type": "markdown",
   "metadata": {},
   "source": []
  }
 ],
 "metadata": {
  "kernelspec": {
   "display_name": "Python 3.9.9 64-bit",
   "language": "python",
   "name": "python3"
  },
  "language_info": {
   "name": "python",
   "version": "3.9.9"
  },
  "orig_nbformat": 4,
  "vscode": {
   "interpreter": {
    "hash": "a2380b3ac67e11a2771676335a3337e287ca0a6748d6715149e47ec6f38f5651"
   }
  }
 },
 "nbformat": 4,
 "nbformat_minor": 2
}
