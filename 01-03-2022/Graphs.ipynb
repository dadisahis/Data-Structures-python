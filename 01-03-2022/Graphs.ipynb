{
 "cells": [
  {
   "cell_type": "code",
   "execution_count": null,
   "metadata": {},
   "outputs": [],
   "source": [
    "##Topological Sorting using DFS\n",
    "\n",
    "class Solution:\n",
    "    \n",
    "    #Function to return list containing vertices in Topological order.\n",
    "    \n",
    "    def dfs(self,node,stack,visited,adj):\n",
    "        visited[node]=1\n",
    "        for i in adj[node]:\n",
    "            if not visited[i]:\n",
    "                self.dfs(i,self.stack,visited,adj)\n",
    "        self.stack.append(node)\n",
    "    def topoSort(self, V, adj):\n",
    "        # Code here\n",
    "        visited=[0]*V\n",
    "        self.stack=[]\n",
    "        for i in range(V):\n",
    "            if not visited[i]:\n",
    "                self.dfs(i,self.stack,visited,adj)\n",
    "        \n",
    "        return self.stack[::-1]"
   ]
  },
  {
   "cell_type": "code",
   "execution_count": null,
   "metadata": {},
   "outputs": [],
   "source": [
    "def topoSort(self, V, adj):\n",
    "        # Code here\n",
    "        result=[]\n",
    "        indegree=[0]*V\n",
    "        for i in range(V):\n",
    "            for j in adj[i]:\n",
    "                indegree[j]+=1\n",
    "        queue=[]\n",
    "        for i in range(len(indegree)):\n",
    "            if indegree[i]==0:\n",
    "                queue.append(i)\n",
    "        while queue:\n",
    "            top=queue.pop(0)\n",
    "            result.append(top)\n",
    "            for i in adj[top]:\n",
    "                indegree[i]-=1\n",
    "                if indegree[i]==0:\n",
    "                    queue.append(i)\n",
    "        \n",
    "        return result"
   ]
  },
  {
   "cell_type": "code",
   "execution_count": null,
   "metadata": {},
   "outputs": [],
   "source": [
    "#User function Template for python3\n",
    "\n",
    "\n",
    "class Solution:\n",
    "    \n",
    "    #Function to detect cycle in a directed graph.\n",
    "    def checkCycle(self,node,visited,dfsvisit,adj):\n",
    "        visited[node]=1\n",
    "        dfsvisit[node]=1\n",
    "        for i in adj[node]:\n",
    "            if not visited[i]:\n",
    "                if self.checkCycle(i,visited,dfsvisit,adj):\n",
    "                    return True\n",
    "            elif dfsvisit[i]:\n",
    "                return True\n",
    "        dfsvisit[node]=0\n",
    "        return False\n",
    "                \n",
    "    def isCyclic(self, V, adj):\n",
    "        # code here\n",
    "        visited=[0]*V\n",
    "        dfsvisit=[0]*V\n",
    "        for i in range(V):\n",
    "            if not visited[i]:\n",
    "                if self.checkCycle(i,visited,dfsvisit,adj):\n",
    "                    return True\n",
    "        return False\n"
   ]
  },
  {
   "cell_type": "code",
   "execution_count": 22,
   "metadata": {},
   "outputs": [],
   "source": [
    "import sys\n",
    " \n",
    "class Graph():\n",
    " \n",
    "    def __init__(self, vertices):\n",
    "        self.V = vertices\n",
    "        self.graph = [[0 for column in range(vertices)]\n",
    "                    for row in range(vertices)]\n",
    "\n",
    "    def dijkstras(self,src):\n",
    "        distance=[float('inf')]*self.V\n",
    "        distance[src]=self.graph[0][0]\n",
    "        s=set()\n",
    "        s.add((src,self.graph[0][0]))\n",
    "        while s:\n",
    "            print(s)\n",
    "            top,weight=list(s).pop(0)\n",
    "            print('t',top)\n",
    "            for i in range(len(self.graph[top])):\n",
    "                if  self.graph[top][i]!=0:\n",
    "                    print(self.graph[top][i])\n",
    "                    if distance[top]+ self.graph[top][i] < distance[i]:\n",
    "                        distance[i]=distance[top]+ self.graph[top][i]\n",
    "                        s.add((self.graph[top][i],distance[i]))\n",
    "        return distance\n",
    "\n",
    "\n",
    "\n",
    "\n",
    "g = Graph(9)\n",
    "g.graph = [[0, 4, 0, 0, 0, 0, 0, 8, 0],\n",
    "        [4, 0, 8, 0, 0, 0, 0, 11, 0],\n",
    "        [0, 8, 0, 7, 0, 4, 0, 0, 2],\n",
    "        [0, 0, 7, 0, 9, 14, 0, 0, 0],\n",
    "        [0, 0, 0, 9, 0, 10, 0, 0, 0],\n",
    "        [0, 0, 4, 14, 10, 0, 2, 0, 0],\n",
    "        [0, 0, 0, 0, 0, 2, 0, 1, 6],\n",
    "        [8, 11, 0, 0, 0, 0, 1, 0, 7],\n",
    "        [0, 0, 2, 0, 0, 0, 6, 7, 0]\n",
    "        ]\n",
    "print(g.dijkstras(0))"
   ]
  },
  {
   "cell_type": "code",
   "execution_count": 24,
   "metadata": {},
   "outputs": [],
   "source": [
    "class DisjointSet:\n",
    "    def __init__(self,N):\n",
    "        self.rank=[0]*N\n",
    "        self.parent=[i for i in range(N)]\n",
    "    def findParent(self,x):\n",
    "        if self.parent[x]!=x:\n",
    "            self.parent[x]=self.findParent(self.parent[x])\n",
    "        return self.parent[x]\n",
    "    \n",
    "    def union(self,x,y):\n",
    "        xparent=self.findParent(x)\n",
    "        yparent=self.findParent(y)\n",
    "        if xparent==yparent:\n",
    "            return\n",
    "        if self.rank[xparent] < self.rank[yparent]:\n",
    "            self.parent[xparent]=yparent\n",
    "        elif self.rank[xparent] > self.rank[yparent]:\n",
    "            self.parent[yparent]=xparent\n",
    "        else:\n",
    "            self.parent[yparent]=xparent\n",
    "        \n",
    "\n",
    "d=DisjointSet(8)\n",
    "d.union(1,2)\n",
    "d.union(2,3)\n",
    "d.union(4,5)\n",
    "d.union(6,7)\n",
    "d.union(5,6)\n",
    "d.union(3,7)\n",
    "\n"
   ]
  },
  {
   "cell_type": "code",
   "execution_count": 28,
   "metadata": {},
   "outputs": [
    {
     "data": {
      "text/plain": [
       "1"
      ]
     },
     "execution_count": 28,
     "metadata": {},
     "output_type": "execute_result"
    }
   ],
   "source": [
    "d.findParent(4)"
   ]
  },
  {
   "cell_type": "code",
   "execution_count": null,
   "metadata": {},
   "outputs": [],
   "source": []
  }
 ],
 "metadata": {
  "interpreter": {
   "hash": "c96291010f7a844ee02fb384facd57d68384d0c55b508665bf5452864442687c"
  },
  "kernelspec": {
   "display_name": "Python 3.9.9 64-bit",
   "language": "python",
   "name": "python3"
  },
  "language_info": {
   "codemirror_mode": {
    "name": "ipython",
    "version": 3
   },
   "file_extension": ".py",
   "mimetype": "text/x-python",
   "name": "python",
   "nbconvert_exporter": "python",
   "pygments_lexer": "ipython3",
   "version": "3.9.9"
  },
  "orig_nbformat": 4
 },
 "nbformat": 4,
 "nbformat_minor": 2
}
