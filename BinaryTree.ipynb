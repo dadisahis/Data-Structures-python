{
 "cells": [
  {
   "cell_type": "markdown",
   "metadata": {},
   "source": [
    "## Find Successor"
   ]
  },
  {
   "cell_type": "code",
   "execution_count": null,
   "metadata": {},
   "outputs": [],
   "source": [
    "'''\n",
    "Given root of the BT and s node  return the next element that will be visited after the node in inorder traversal\n",
    "Intuition\n",
    "if node.right exists then find the left most child on the right subtree of the node\n",
    "if it doesnt exists,then that means the next node will be node that exists on an upperlevel,  find the rightmost parent for the currNode by going up using the parent node\n",
    "\n",
    "'''\n",
    "class BinaryTree:\n",
    "    def __init__(self, value, left=None, right=None, parent=None):\n",
    "        self.value = value\n",
    "        self.left = left\n",
    "        self.right = right\n",
    "        self.parent = parent\n",
    "def findLeft(node):\n",
    "    currNode = node.right\n",
    "    while currNode.left is not None:\n",
    "        currNode = currNode.left\n",
    "    return currNode\n",
    "\n",
    "def findRight(node):\n",
    "    currNode = node\n",
    "    while currNode.parent and currNode.parent.right==currNode:\n",
    "        currNode = currNode.parent\n",
    "    return currNode.parent\n",
    "\n",
    "def findSuccessor(tree, node):\n",
    "    # Write your code here.\n",
    "    if node.right is not None:\n",
    "        return findLeft(node)\n",
    "    return findRight(node)\n",
    "\n",
    "'''\n",
    "TC : O(h)\n",
    "SC: O(1)\n",
    "'''\n"
   ]
  },
  {
   "cell_type": "markdown",
   "metadata": {},
   "source": [
    "## Height Balanced Binary Tree"
   ]
  },
  {
   "cell_type": "code",
   "execution_count": null,
   "metadata": {},
   "outputs": [],
   "source": [
    "'''\n",
    "Intuition\n",
    "Calculate the height of left subtree, and right subtree\n",
    "if abs diff of the heights between the 2 os greater than one then return False\n",
    "else return True\n",
    "'''\n",
    "\n",
    "class BinaryTree:\n",
    "    def __init__(self,value, left=None, right=None,) -> None:\n",
    "        self.value= value\n",
    "        self.left= left\n",
    "        self.right= right\n",
    "def helper(node,flag):\n",
    "    if node==None:\n",
    "        return 0,flag\n",
    "    lh,flag=  helper(node.left,flag)\n",
    "    rh,flag=  helper(node.right,flag)\n",
    "    diff = abs(lh-rh)\n",
    "    if diff>1:\n",
    "        flag = False\n",
    "    return 1+max(lh,rh),flag\n",
    "\n",
    "def main(root):\n",
    "    _,flag = helper(root,True)\n",
    "    return flag\n",
    "\n",
    "'''\n",
    "TC : O(N)\n",
    "SC: O(h) -> auxilary space for recursive calls\n",
    "'''"
   ]
  },
  {
   "cell_type": "markdown",
   "metadata": {},
   "source": [
    "## Max Path Sum in Binary Tree"
   ]
  },
  {
   "cell_type": "code",
   "execution_count": null,
   "metadata": {},
   "outputs": [],
   "source": [
    "def helper(node):\n",
    "    if node==None:\n",
    "        return 0,float('inf')\n",
    "    lsb,lmx = helper(node.left)\n",
    "    rsb,rmx = helper(node.right)\n",
    "    mcsb = max(lsb,rsb)\n",
    "    msb= max(mcsb+node.value,node.value)\n",
    "    mst = max(msb, lsb+node.value+rsb)\n",
    "    ms= max(ls,rs,mst)\n",
    "    return msb,ms\n",
    "def main(root):\n",
    "    _,maxSum = helper(root)\n",
    "    return maxSum\n",
    "\n",
    "'''\n",
    "TC : O(n)\n",
    "SC: O(log(n))- if BT is balanced else if its a skewed tree it'll be O(n)\n",
    "'''"
   ]
  },
  {
   "cell_type": "markdown",
   "metadata": {},
   "source": []
  }
 ],
 "metadata": {
  "kernelspec": {
   "display_name": "Python 3.9.9 64-bit",
   "language": "python",
   "name": "python3"
  },
  "language_info": {
   "name": "python",
   "version": "3.9.9"
  },
  "orig_nbformat": 4,
  "vscode": {
   "interpreter": {
    "hash": "a2380b3ac67e11a2771676335a3337e287ca0a6748d6715149e47ec6f38f5651"
   }
  }
 },
 "nbformat": 4,
 "nbformat_minor": 2
}
