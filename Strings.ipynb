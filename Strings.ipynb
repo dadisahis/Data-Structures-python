{
 "cells": [
  {
   "cell_type": "markdown",
   "metadata": {},
   "source": [
    "## Longest Palindromix Substring"
   ]
  },
  {
   "cell_type": "code",
   "execution_count": null,
   "metadata": {},
   "outputs": [],
   "source": [
    "'''\n",
    "Intuition\n",
    "Iterate through the string\n",
    "at each iteration check for palindrome for odd lengths that is when the center is a character\n",
    "and then for even lengths that is when the center is  between 2 character\n",
    "compare length of the palindrome returned from odd lengths and even lengths\n",
    "keep a track of longest the substring at each iteration \n",
    "\n",
    "'''\n",
    "\n",
    "def checkPalindrome(string,left,right):\n",
    "    while left>=0 and right < len(string):\n",
    "        if string[left]!=string[right]:\n",
    "            break\n",
    "        left-=1\n",
    "        right+=1\n",
    "    return [left+1,right]\n",
    "def longestPalindromicSubstring(string):\n",
    "    # Write your code here.\n",
    "    currentLongest = [0,1]\n",
    "    for i in range(1,len(string)):\n",
    "        odd = checkPalindrome(string,i-1,i+1)\n",
    "        even = checkPalindrome(string,i-1,i)\n",
    "        longer=max(odd,even,key=lambda x : x[1]-x[0])\n",
    "        currentLongest=max(longer,currentLongest, key=lambda x: x[1]-x[0])\n",
    "    return string[currentLongest[0]:currentLongest[1]]\n",
    "        \n",
    "\n",
    "    \n",
    "'''\n",
    "TC : O(n^2)\n",
    "SC: O(n)\n",
    "'''"
   ]
  },
  {
   "cell_type": "markdown",
   "metadata": {},
   "source": [
    "## Group Anagrams"
   ]
  },
  {
   "cell_type": "code",
   "execution_count": null,
   "metadata": {},
   "outputs": [],
   "source": [
    "def groupAnagrams(words):\n",
    "    # Write your code here.\n",
    "    anagram_dict={}\n",
    "    for word in words:\n",
    "        sorted_word = \"\".join(sorted(word))\n",
    "        if sorted_word in anagram_dict.keys():\n",
    "            anagram_dict[sorted_word].append(word)\n",
    "        else:\n",
    "            anagram_dict[sorted_word]=[word]\n",
    "    return list(anagram_dict.values())\n",
    "'''\n",
    "TC - O(w*n*log(n)) -> w - is the number of words , n - length of the longest word , nlogn the required to sort a string\n",
    "SC: O(wn)\n",
    "'''"
   ]
  },
  {
   "cell_type": "markdown",
   "metadata": {},
   "source": [
    "## Reverse Words in String"
   ]
  },
  {
   "cell_type": "code",
   "execution_count": null,
   "metadata": {},
   "outputs": [],
   "source": [
    "def reverseWordsInString(string):\n",
    "    # Write your code here.\n",
    "    result_string=[]\n",
    "    i = len(string)-1\n",
    "    right=len(string)\n",
    "    while i >=0:\n",
    "        if string[i]==' ':\n",
    "            result_string.append(string[i+1:right])\n",
    "            right=i\n",
    "            result_string.append(string[i])\n",
    "        i-=1\n",
    "    result_string.append(string[i+1:right])\n",
    "            \n",
    "    return ''.join(result_string)\n",
    "\n",
    "'''\n",
    "TC: O(n)\n",
    "'''"
   ]
  },
  {
   "cell_type": "markdown",
   "metadata": {},
   "source": []
  }
 ],
 "metadata": {
  "language_info": {
   "name": "python"
  },
  "orig_nbformat": 4
 },
 "nbformat": 4,
 "nbformat_minor": 2
}
