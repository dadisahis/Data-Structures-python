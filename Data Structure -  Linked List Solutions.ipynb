{
 "cells": [
  {
   "cell_type": "markdown",
   "metadata": {},
   "source": [
    "Reverse A Linked List"
   ]
  },
  {
   "cell_type": "code",
   "execution_count": null,
   "metadata": {},
   "outputs": [],
   "source": [
    "def reverseList(self, head):\n",
    "    # Code here\n",
    "    new_head = None\n",
    "    while(head!=None):\n",
    "        t = Node(head.data)\n",
    "        t.next = new_head\n",
    "        new_head= t\n",
    "        head=head.next\n",
    "    return new_head"
   ]
  },
  {
   "cell_type": "markdown",
   "metadata": {},
   "source": [
    "Reverse A Linked List - Recursive "
   ]
  },
  {
   "cell_type": "code",
   "execution_count": null,
   "metadata": {},
   "outputs": [],
   "source": [
    "def reverseList(self, head):\n",
    "    # Code here\n",
    "    '''new_head = None\n",
    "    while(head!=None):\n",
    "        t = Node(head.data)\n",
    "        t.next = new_head\n",
    "        new_head= t\n",
    "        head=head.next\n",
    "    return new_head'''\n",
    "    p = head\n",
    "    if head is None or head.next is None:\n",
    "        p = head\n",
    "        return p\n",
    "    new_head = self.reverseList(p.next)\n",
    "    p.next.next=p\n",
    "    p.next = None\n",
    "    return new_head"
   ]
  },
  {
   "cell_type": "markdown",
   "metadata": {},
   "source": [
    "Reverse LL of in groups of K"
   ]
  },
  {
   "cell_type": "code",
   "execution_count": null,
   "metadata": {},
   "outputs": [],
   "source": [
    "def reverse(self,head, k):\n",
    "        # Code here\n",
    "        if head ==None:\n",
    "            return None\n",
    "        current=head\n",
    "        next=None\n",
    "        prev=None\n",
    "        c=0\n",
    "        \n",
    "        while(current!=None and c<k):\n",
    "            next = current.next\n",
    "            current.next = prev\n",
    "            prev = current\n",
    "            current = next\n",
    "            \n",
    "            c+=1\n",
    "        if next is not None:\n",
    "            head.next = self.reverse(next,k)\n",
    "            \n",
    "        \n",
    "        \n",
    "        return prev\n",
    "                \n",
    "                "
   ]
  },
  {
   "cell_type": "markdown",
   "metadata": {},
   "source": [
    "Remove Dupes from unsorted List"
   ]
  },
  {
   "cell_type": "code",
   "execution_count": null,
   "metadata": {},
   "outputs": [],
   "source": []
  }
 ],
 "metadata": {
  "kernelspec": {
   "display_name": "Python 3",
   "language": "python",
   "name": "python3"
  },
  "language_info": {
   "codemirror_mode": {
    "name": "ipython",
    "version": 3
   },
   "file_extension": ".py",
   "mimetype": "text/x-python",
   "name": "python",
   "nbconvert_exporter": "python",
   "pygments_lexer": "ipython3",
   "version": "3.7.3"
  }
 },
 "nbformat": 4,
 "nbformat_minor": 4
}
