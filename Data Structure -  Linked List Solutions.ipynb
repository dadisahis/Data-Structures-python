{
 "cells": [
  {
   "cell_type": "markdown",
   "metadata": {},
   "source": [
    "Reverse A Linked List"
   ]
  },
  {
   "cell_type": "code",
   "execution_count": null,
   "metadata": {},
   "outputs": [],
   "source": [
    "def reverseList(self, head):\n",
    "    # Code here\n",
    "    new_head = None\n",
    "    while(head!=None):\n",
    "        t = Node(head.data)\n",
    "        t.next = new_head\n",
    "        new_head= t\n",
    "        head=head.next\n",
    "    return new_head"
   ]
  },
  {
   "cell_type": "markdown",
   "metadata": {},
   "source": [
    "Reverse A Linked List - Recursive "
   ]
  },
  {
   "cell_type": "code",
   "execution_count": null,
   "metadata": {},
   "outputs": [],
   "source": [
    "def reverseList(self, head):\n",
    "    # Code here\n",
    "    '''new_head = None\n",
    "    while(head!=None):\n",
    "        t = Node(head.data)\n",
    "        t.next = new_head\n",
    "        new_head= t\n",
    "        head=head.next\n",
    "    return new_head'''\n",
    "    p = head\n",
    "    if head is None or head.next is None:\n",
    "        p = head\n",
    "        return p\n",
    "    new_head = self.reverseList(p.next)\n",
    "    p.next.next=p\n",
    "    p.next = None\n",
    "    return new_head"
   ]
  },
  {
   "cell_type": "markdown",
   "metadata": {},
   "source": [
    "Reverse LL of in groups of K"
   ]
  },
  {
   "cell_type": "code",
   "execution_count": null,
   "metadata": {},
   "outputs": [],
   "source": [
    "def reverse(self,head, k):\n",
    "        # Code here\n",
    "        if head ==None:\n",
    "            return None\n",
    "        current=head\n",
    "        next=None\n",
    "        prev=None\n",
    "        c=0\n",
    "        \n",
    "        while(current!=None and c<k):\n",
    "            next = current.next\n",
    "            current.next = prev\n",
    "            prev = current\n",
    "            current = next\n",
    "            \n",
    "            c+=1\n",
    "        if next is not None:\n",
    "            head.next = self.reverse(next,k)\n",
    "            \n",
    "        \n",
    "        \n",
    "        return prev\n",
    "                \n",
    "                "
   ]
  },
  {
   "cell_type": "markdown",
   "metadata": {},
   "source": [
    "Remove Dupes from unsorted List"
   ]
  },
  {
   "cell_type": "markdown",
   "metadata": {},
   "source": [
    "Find and Remove Loop from LL"
   ]
  },
  {
   "cell_type": "code",
   "execution_count": 4,
   "metadata": {},
   "outputs": [],
   "source": [
    "def findLoop(self,head):\n",
    "        p=head\n",
    "        q=head\n",
    "        while(q!=None and q.next!=None):\n",
    "            p=p.next\n",
    "            q=q.next.next\n",
    "            if p==q:\n",
    "                return p\n",
    "        return None\n",
    "    \n",
    "def remove_Loop(self,head,p):\n",
    "    q=head\n",
    "    while(p.next!=q.next):\n",
    "        p=p.next\n",
    "        q=q.next\n",
    "    return p\n",
    "\n",
    "\n",
    "def removeLoop(self, head):\n",
    "    # code here\n",
    "    # remove the loop without losing any nodes\n",
    "    p = self.findLoop(head)\n",
    "    if p is not None:\n",
    "        print(\"Loop\")\n",
    "        p = self.remove_Loop(head,p)\n",
    "        p.next = None\n",
    "    else:\n",
    "        return"
   ]
  },
  {
   "cell_type": "code",
   "execution_count": 5,
   "metadata": {},
   "outputs": [],
   "source": [
    "def removeLoop(self, head):\n",
    "    # code here\n",
    "    # remove the loop without losing any nodes\n",
    "    s=set()\n",
    "    temp=head\n",
    "    primary=head\n",
    "    while(temp.next!=None):\n",
    "        if temp  not in s:\n",
    "            s.add(temp)\n",
    "        else:\n",
    "            primary.next = None\n",
    "            break\n",
    "        primary=temp\n",
    "        temp=temp.next"
   ]
  },
  {
   "cell_type": "code",
   "execution_count": 7,
   "metadata": {},
   "outputs": [
    {
     "data": {
      "text/plain": [
       "0"
      ]
     },
     "execution_count": 7,
     "metadata": {},
     "output_type": "execute_result"
    }
   ],
   "source": [
    "'''\n",
    "You are given the heads of two sorted linked lists list1 and list2.\n",
    "\n",
    "Merge the two lists in a one sorted list. The list should be made by splicing together the nodes of the first two lists.\n",
    "\n",
    "Return the head of the merged linked list.\n",
    "\n",
    "Example 1:\n",
    "\n",
    "\n",
    "Input: list1 = [1,2,4], list2 = [1,3,4]\n",
    "Output: [1,1,2,3,4,4]\n",
    "Example 2:\n",
    "\n",
    "Input: list1 = [], list2 = []\n",
    "Output: []\n",
    "Example 3:\n",
    "\n",
    "Input: list1 = [], list2 = [0]\n",
    "Output: [0]\n",
    "'''\n",
    "\n",
    "class ListNode:\n",
    "    def __init__(self,val,next) -> None:\n",
    "        self.val=val\n",
    "        self.next = next\n",
    "\n",
    "\n",
    "def main(list1,list2):\n",
    "    if list1 is None:\n",
    "        return list2\n",
    "    if list2 is None:\n",
    "        return list1\n",
    "    p1=list1\n",
    "    p2=list2\n",
    "    prev=None\n",
    "\n",
    "    while p1 and p2:\n",
    "        if p1.val>=p2.val:\n",
    "            if prev is not None:\n",
    "                prev.next = p2\n",
    "            prev=p2\n",
    "            p2=p2.next\n",
    "            prev.next=p1\n",
    "        else:\n",
    "            prev=p1\n",
    "            p1=p1.next\n",
    "\n",
    "    if p1 or p2:\n",
    "        prev.next = p1 if p1 else p2\n",
    "    return list1 if list1.val < list2.val else list2\n",
    "\n",
    "    "
   ]
  },
  {
   "attachments": {},
   "cell_type": "markdown",
   "metadata": {},
   "source": [
    "### Linked List Cycle 2"
   ]
  },
  {
   "cell_type": "code",
   "execution_count": null,
   "metadata": {},
   "outputs": [],
   "source": [
    "'''\n",
    "Given the head of a linked list, return the node where the cycle begins. If there is no cycle, return null.\n",
    "\n",
    "There is a cycle in a linked list if there is some node in the list that can be reached again by continuously following the next pointer. Internally, pos is used to denote the index of the node that tail's next pointer is connected to (0-indexed). It is -1 if there is no cycle. Note that pos is not passed as a parameter.\n",
    "\n",
    "Do not modify the linked list.\n",
    "\n",
    " \n",
    "\n",
    "Example 1:\n",
    "\n",
    "\n",
    "Input: head = [3,2,0,-4], pos = 1\n",
    "Output: tail connects to node index 1\n",
    "Explanation: There is a cycle in the linked list, where tail connects to the second node.\n",
    "Example 2:\n",
    "\n",
    "\n",
    "Input: head = [1,2], pos = 0\n",
    "Output: tail connects to node index 0\n",
    "Explanation: There is a cycle in the linked list, where tail connects to the first node.\n",
    "Example 3:\n",
    "\n",
    "\n",
    "Input: head = [1], pos = -1\n",
    "Output: no cycle\n",
    "Explanation: There is no cycle in the linked list.\n",
    "'''\n",
    "\n",
    "\n",
    "def main(head):\n",
    "    p1=head\n",
    "    p2=head\n",
    "    isCycle=False\n",
    "    while p1 and p1.next and p2 and p2.next:\n",
    "        p1=p1.next\n",
    "        p2=p2.next\n",
    "        if p1==p2:\n",
    "            isCycle = True\n",
    "            break\n",
    "    if not isCycle:\n",
    "        return None\n",
    "    p1=head\n",
    "    while p1 != p2:\n",
    "        p1=p1.next\n",
    "        p2=p2.next\n",
    "    return p1\n",
    "\n",
    "'''\n",
    "TC - O(n)\n",
    "SC - O(1)\n",
    "'''"
   ]
  }
 ],
 "metadata": {
  "kernelspec": {
   "display_name": "Python 3",
   "language": "python",
   "name": "python3"
  },
  "language_info": {
   "codemirror_mode": {
    "name": "ipython",
    "version": 3
   },
   "file_extension": ".py",
   "mimetype": "text/x-python",
   "name": "python",
   "nbconvert_exporter": "python",
   "pygments_lexer": "ipython3",
   "version": "3.7.3"
  }
 },
 "nbformat": 4,
 "nbformat_minor": 4
}
