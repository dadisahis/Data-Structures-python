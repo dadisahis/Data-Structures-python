{
 "cells": [
  {
   "cell_type": "markdown",
   "metadata": {},
   "source": [
    "## Bubble Sort"
   ]
  },
  {
   "cell_type": "code",
   "execution_count": 1,
   "metadata": {},
   "outputs": [
    {
     "data": {
      "text/plain": [
       "'\\nTC: O(n^2)\\nSC: O(1)\\n\\n'"
      ]
     },
     "execution_count": 1,
     "metadata": {},
     "output_type": "execute_result"
    }
   ],
   "source": [
    "#The biggest element which is unsorted gets sorted first\n",
    "def bubbleSort(array):\n",
    "    # Write your code here.\n",
    "    for i in range(len(array)):\n",
    "        for j in range(len(array)-i-1):\n",
    "            if array[j] > array[j+1]:\n",
    "                array[j],array[j+1]=array[j+1],array[j]\n",
    "            else:\n",
    "                continue\n",
    "    return array\n",
    "                \n",
    "'''\n",
    "TC: O(n^2)\n",
    "SC: O(1)\n",
    "\n",
    "'''"
   ]
  },
  {
   "cell_type": "markdown",
   "metadata": {},
   "source": [
    "## Insertion Sort"
   ]
  },
  {
   "cell_type": "code",
   "execution_count": null,
   "metadata": {},
   "outputs": [],
   "source": [
    "def insertionSort(array):\n",
    "    # Write your code here. \n",
    "    for i in range(1,len(array)):\n",
    "        j=i\n",
    "        while array[j]<array[j-1] and j>0:\n",
    "            array[j],array[j-1]=array[j-1],array[j]\n",
    "            j-=1\n",
    "    return array\n",
    "\n",
    "'''\n",
    "TC: O(n^2)\n",
    "SC: O(1)\n",
    "'''"
   ]
  },
  {
   "cell_type": "markdown",
   "metadata": {},
   "source": [
    "## Selection Sort"
   ]
  },
  {
   "cell_type": "code",
   "execution_count": null,
   "metadata": {},
   "outputs": [],
   "source": [
    "# The smallest element which is unsorted gets sorted first\n",
    "\n",
    "def selectionSort(array):\n",
    "    # Write your code here.\n",
    "    \n",
    "    for i in range(len(array)):\n",
    "        min=i\n",
    "        for j in range(i+1,len(array)):\n",
    "            if array[min]>array[j]:\n",
    "                min=j\n",
    "        array[i],array[min]=array[min],array[i]\n",
    "    return array\n",
    "\n",
    "\n",
    "'''\n",
    "TC: O(n^2)\n",
    "SC: O(1)\n",
    "'''"
   ]
  },
  {
   "cell_type": "markdown",
   "metadata": {},
   "source": [
    "## Three Number Sort (Similar to Dutch National Flag problem)\n"
   ]
  },
  {
   "cell_type": "code",
   "execution_count": 2,
   "metadata": {},
   "outputs": [
    {
     "data": {
      "text/plain": [
       "'\\nTC: O(n^2)\\nSC: O(1)\\n'"
      ]
     },
     "execution_count": 2,
     "metadata": {},
     "output_type": "execute_result"
    }
   ],
   "source": [
    "def threeNumberSort(array, order):\n",
    "    # Write your code here.\n",
    "    for i in range(len(array)):\n",
    "        for j in range(len(array)-i-1):\n",
    "            if order.index(array[j]) > order.index(array[j+1]):\n",
    "                array[j],array[j+1] = array[j+1],array[j]\n",
    "    return array\n",
    "\n",
    "'''\n",
    "TC: O(n^2)\n",
    "SC: O(1)\n",
    "'''"
   ]
  },
  {
   "cell_type": "markdown",
   "metadata": {},
   "source": [
    "Optimal way to solve using 3 pointer solution\n",
    "\n",
    "Intuition: We use three pointers low, mid  and high. Left of low will be 0 and right of high will be 2"
   ]
  },
  {
   "cell_type": "code",
   "execution_count": null,
   "metadata": {},
   "outputs": [],
   "source": [
    "def threeNumberSort(array, order):\n",
    "    # Write your code here.\n",
    "    low,mid=0,0\n",
    "    high=len(array)-1\n",
    "    while mid<=high:\n",
    "        if order.index(array[mid])==0:\n",
    "            array[low],array[mid] = array[mid],array[low]\n",
    "            mid+=1\n",
    "            low+=1\n",
    "        elif order.index(array[mid])==1:\n",
    "            mid+=1\n",
    "        elif order.index(array[mid])==2:\n",
    "            array[mid],array[high] = array[high],array[mid]\n",
    "            high-=1\n",
    "    return array\n",
    "\n",
    "'''\n",
    "TC: O(n)\n",
    "SC: O(1)\n",
    "'''"
   ]
  },
  {
   "cell_type": "markdown",
   "metadata": {},
   "source": [
    "## Quick Sort"
   ]
  },
  {
   "cell_type": "code",
   "execution_count": null,
   "metadata": {},
   "outputs": [],
   "source": [
    "def quickSort(array):\n",
    "    # Write your code here.\n",
    "    helper(array,0,len(array)-1)\n",
    "    return array\n",
    "\n",
    "def helper(array,startidx, endidx):\n",
    "    if startidx >=endidx: \n",
    "        return\n",
    "    pivot=startidx\n",
    "    left=startidx+1\n",
    "    right=endidx\n",
    "    while left<=right:\n",
    "        if array[left]>array[pivot] and array[right] < array[pivot]:\n",
    "            array[left],array[right]=array[right],array[left]\n",
    "        elif array[left]<=array[pivot]:\n",
    "            left+=1\n",
    "        elif array[right] >= array[pivot]:\n",
    "            right-=1\n",
    "    array[pivot],array[right] = array[right],array[pivot]\n",
    "    isLeftSubarrayGreater = right-1 - startidx < endidx - right + 1 \n",
    "    if isLeftSubarrayGreater:\n",
    "        helper(array,startidx,right-1)\n",
    "        helper(array,right+1,endidx)\n",
    "    else:\n",
    "        helper(array,right+1,endidx)\n",
    "        helper(array,startidx,right-1)\n",
    "        \n",
    "'''\n",
    "TC: O(Nlog(n))\n",
    "SC: O(log(n)) auxilary space due to recursive calls due to it being divide and conquer\n",
    "'''"
   ]
  },
  {
   "cell_type": "markdown",
   "metadata": {},
   "source": [
    "## Heap Sort\n"
   ]
  },
  {
   "cell_type": "code",
   "execution_count": null,
   "metadata": {},
   "outputs": [],
   "source": [
    "'''\n",
    "Intuition :\n",
    "1. Build Max Heap\n",
    "2. swap last element with first element\n",
    "3. sift down the first element to endIdx - 1\n",
    "'''\n",
    "\n",
    "def swap(elem1,elem2,array):\n",
    "    array[elem1],array[elem2] = array[elem2],array[elem1]\n",
    "    return array\n",
    "\n",
    "def siftDown(array,currIdx,endIdx):\n",
    "    child1 = 2*currIdx + 1\n",
    "    while child1 <= endIdx:\n",
    "        child2 = 2*currIdx + 2 if 2*currIdx + 2 <= endIdx else -1\n",
    "        if child2!=-1 and array[child2]>array[child1]:\n",
    "            indexToSwap = child2\n",
    "        else:\n",
    "            indexToSwap = child1\n",
    "        if array[indexToSwap]> array[currIdx]:\n",
    "            array = swap(indexToSwap,currIdx,array)\n",
    "            currIdx = indexToSwap\n",
    "            child1 = 2*currIdx + 1\n",
    "        else: \n",
    "            break\n",
    "    return array\n",
    "            \n",
    "    \n",
    "def buildHeap(array):\n",
    "    firstParent = (len(array)-2) //2\n",
    "    for idx in reversed(range(firstParent+1)):\n",
    "        array = siftDown(array,idx,len(array)-1)\n",
    "    return array\n",
    "\n",
    "def heapSort(array):\n",
    "    # Write your code here.\n",
    "    array = buildHeap(array)\n",
    "    for endIdx in range(len(array)-1,0,-1):\n",
    "        array = swap(0,endIdx,array)\n",
    "        array = siftDown(array,0,endIdx-1)\n",
    "    return array"
   ]
  },
  {
   "cell_type": "markdown",
   "metadata": {},
   "source": [
    "## Radix Sort"
   ]
  },
  {
   "cell_type": "code",
   "execution_count": null,
   "metadata": {},
   "outputs": [],
   "source": [
    "'''\n",
    "Intuition \n",
    "1. The intuition is to sort the numbers by its digits first in the ones column, then in 10s column, then in the 100s column and so on.\n",
    "2. We use count sort in this algorithm to count the number of times a digit appears in the array and then place it in its appropriate position\n",
    "3. The number of times count sort has to be called is equal to the number of digits of the max number in array\n",
    "4. Run a while loop for count of digits of the max number in the array\n",
    "5. Initialize a count array whose length will be the base of the numbers given in input array(base can be binary,decimal,hexadecimal and so on)\n",
    "6. Update the count array by increasing the count of the index of the count array where the index corresponds to the ones digit of a number in input array\n",
    "7. After updating the count array with the counts, run a for loop from index 1, and add the value at the previous index in count array to the current index.\n",
    "8. The above step will determine the last position were the element needs to be inserted\n",
    "9. Run a for in reverse for the input array, get the digit of each number in the input array, and using the count array input the number in the correct position in a new array\n",
    "10. The loopm should be in reverse so that any previous sorted order is not messed up\n",
    "11. copy the new array to the input array\n",
    "12. Continue the process until  we have reached the count equal to the  number of digits of the max number in array\n",
    "'''\n",
    "\n",
    "def getDigit(number,digit):\n",
    "    number=number//(10**(digit))\n",
    "    return number % 10\n",
    "\n",
    "def updateAndModifyCountArray(array,counts,digit):\n",
    "    for i in range(len(array)):\n",
    "        number = getDigit(array[i],digit)\n",
    "        counts[number]+=1\n",
    "    for i in range(1,len(counts)):\n",
    "        counts[i]=counts[i]+counts[i-1]\n",
    "    return counts\n",
    "\n",
    "def sortArray(array,counts,digit):\n",
    "    new_array = [-1]*len(array)\n",
    "    for i in range(len(array)-1,-1,-1):\n",
    "        number=getDigit(array[i],digit)\n",
    "        counts[number]-=1\n",
    "        new_array[counts[number]] = array[i]\n",
    "    return new_array\n",
    "\n",
    "def radixSort(array):\n",
    "    # Write your code here.\n",
    "    if len(array) == 0:\n",
    "        return []\n",
    "    max_num_len = len(str(max(array)))\n",
    "    i=0\n",
    "    while i< max_num_len:\n",
    "        counts = [0]*10\n",
    "        counts = updateAndModifyCountArray(array,counts,i)\n",
    "        sorted_array= sortArray(array,counts,i)\n",
    "        array=sorted_array\n",
    "        i+=1 \n",
    "    return array\n",
    "\n",
    "\n",
    "'''\n",
    "Space Complexity: O(d*(n+b))\n",
    "d - number of digits in max number in the input array\n",
    "n - length of  input array\n",
    "b - base of the number in input array\n",
    "higher the base costlier the sorting algo\n",
    "greateer the number of digits in max number of input array costlier the algo\n",
    "'''\n"
   ]
  },
  {
   "cell_type": "markdown",
   "metadata": {},
   "source": [
    "## Merge Sort"
   ]
  },
  {
   "cell_type": "code",
   "execution_count": null,
   "metadata": {},
   "outputs": [],
   "source": [
    "'''\n",
    "Intuition\n",
    "This is a divide and conquer algo\n",
    "Create a auxilary array which is  the copy of the main array\n",
    "Keep dividing the input array from start to mid and mid +1 to end until there is just a single element in an array. The mainArray passed at each function call will be the auxilaryArray and auxilaryArray passed will be mainArray\n",
    "Merge the array by using the following logic\n",
    "use three pointers, i,j = start, k=mid+1\n",
    "while i<= mind and j<=end:\n",
    "    if auxArray[i]<=auxArray[j]:\n",
    "        mainArray[k]=auxArray[i]\n",
    "        i+=1\n",
    "    else:\n",
    "        mainArray[k]=auxArray[j]\n",
    "        j+=1\n",
    "    k+=1\n",
    "now add the remaining elements in left subarray to the main array\n",
    "now add the remaining elements in right subarray to the main array\n",
    "\n",
    "\n",
    "'''\n",
    "\n",
    "def merge(mainArray,start,mid,end,auxilaryArray):\n",
    "    i=start\n",
    "    k=start\n",
    "    j=mid+1\n",
    "    while i <= mid and j<= end:\n",
    "        if auxilaryArray[i]<=auxilaryArray[j]:\n",
    "            mainArray[k]=auxilaryArray[i]\n",
    "            i+=1\n",
    "        elif auxilaryArray[i]>auxilaryArray[j]:\n",
    "            mainArray[k]= auxilaryArray[j]\n",
    "            j+=1\n",
    "        k+=1\n",
    "    while i <=mid:\n",
    "        mainArray[k]=auxilaryArray[i]\n",
    "        i+=1\n",
    "        k+=1\n",
    "    while j <=end:\n",
    "        mainArray[k]=auxilaryArray[j]\n",
    "        j+=1\n",
    "        k+=1       \n",
    "\n",
    "def helper(mainArray, start,end,auxilaryArray):\n",
    "    if start==end:\n",
    "        return\n",
    "    mid=(start+end)//2\n",
    "    helper(auxilaryArray,start,mid,mainArray)\n",
    "    helper(auxilaryArray,mid+1,end,mainArray)\n",
    "    merge(mainArray,start,mid,end,auxilaryArray)\n",
    "def mergeSort(array):\n",
    "    # Write your code here.\n",
    "    if len(array)<=1:\n",
    "        return array\n",
    "    auxilaryArray = array[:]\n",
    "    helper(array,0,len(array)-1,auxilaryArray)\n",
    "    return array\n",
    "\n",
    "'''\n",
    "TC : O(nlogn)\n",
    "SC: O(n)\n",
    "'''\n",
    "    \n"
   ]
  },
  {
   "cell_type": "markdown",
   "metadata": {},
   "source": [
    "## Count Inversions"
   ]
  },
  {
   "cell_type": "code",
   "execution_count": null,
   "metadata": {},
   "outputs": [],
   "source": [
    "''' \n",
    "We ll use merge sort with addition that at merge we'll count the inversions which is when i<j and arr[i]>arr[j]\n",
    "inversions = mid - i + 1\n",
    "count the inversion in the left subArray \n",
    "count the inversion in the right Subarray\n",
    "count the inversions when merge happens\n",
    " return the sum of above 3\n",
    "'''\n",
    "def merge(mainArray,start,mid,end,auxilaryArray):\n",
    "    i=start\n",
    "    k=start\n",
    "    j=mid+1\n",
    "    countInversions=0\n",
    "    while i<=mid and j<=end:\n",
    "        if auxilaryArray[i] <= auxilaryArray[j]:\n",
    "            mainArray[k]=auxilaryArray[i]\n",
    "            i+=1\n",
    "        elif auxilaryArray[i]> auxilaryArray[j]:\n",
    "            mainArray[k]=auxilaryArray[j]\n",
    "            countInversions += mid - i + 1\n",
    "            j+=1\n",
    "        k+=1\n",
    "    while i<=mid:\n",
    "        mainArray[k]=auxilaryArray[i]\n",
    "        i+=1\n",
    "        k+=1\n",
    "    while j<=end:\n",
    "        mainArray[k]=auxilaryArray[j]\n",
    "        j+=1\n",
    "        k+=1\n",
    "    return countInversions\n",
    "def mergeSort(mainArray,start,end,auxilaryArray):\n",
    "    if start==end: \n",
    "        return 0\n",
    "    mid=(start+end)//2\n",
    "    leftInversions=mergeSort(auxilaryArray,start,mid,mainArray)\n",
    "    rightInversions=mergeSort(auxilaryArray,mid+1,end,mainArray)\n",
    "    mergedInversions=merge(mainArray,start,mid,end,auxilaryArray)\n",
    "    return leftInversions + rightInversions +mergedInversions \n",
    "\n",
    "def countInversions(array):\n",
    "    # Write your code here.\n",
    "    if len(array)<=1:\n",
    "        return 0\n",
    "    countInversions = mergeSort(array, 0, len(array)-1, array[:])    \n",
    "    return countInversions\n",
    "\n",
    "    \n",
    "'''\n",
    "TC : O(nlogn)\n",
    "SC: O(n)\n",
    "'''"
   ]
  },
  {
   "cell_type": "markdown",
   "metadata": {},
   "source": []
  }
 ],
 "metadata": {
  "kernelspec": {
   "display_name": "Python 3.9.9 64-bit",
   "language": "python",
   "name": "python3"
  },
  "language_info": {
   "codemirror_mode": {
    "name": "ipython",
    "version": 3
   },
   "file_extension": ".py",
   "mimetype": "text/x-python",
   "name": "python",
   "nbconvert_exporter": "python",
   "pygments_lexer": "ipython3",
   "version": "3.9.9"
  },
  "orig_nbformat": 4,
  "vscode": {
   "interpreter": {
    "hash": "a2380b3ac67e11a2771676335a3337e287ca0a6748d6715149e47ec6f38f5651"
   }
  }
 },
 "nbformat": 4,
 "nbformat_minor": 2
}
