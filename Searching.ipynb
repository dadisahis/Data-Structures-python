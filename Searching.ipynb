{
 "cells": [
  {
   "cell_type": "markdown",
   "metadata": {},
   "source": [
    "## Shifted Binary Search"
   ]
  },
  {
   "cell_type": "code",
   "execution_count": 2,
   "metadata": {},
   "outputs": [],
   "source": [
    "'''\n",
    "Introduction \n",
    "Given a sorted array which maybe left or right shifted multiple times find the target number and return the index if found or return -1 if not found\n",
    "Intuition\n",
    "Just like binary search use the same approach, run a while loop until start > end where start is 0th index and end is len(array)-1 index\n",
    "Calculate mid => (start+end)//2\n",
    "if array[mid]==target:\n",
    "    return true\n",
    "Now if above is not true\n",
    "check if array[mid]>= array[start]\n",
    "    check if array[mid] > target and target <= array[start]\n",
    "        if true eliminate right subarray\n",
    "    else\n",
    "        eliminate left subarray\n",
    "else\n",
    "    check if array[mid] < target and target <= array[end]\n",
    "        eliminate left subarray\n",
    "    else\n",
    "    eliminate right subarray\n",
    "\n",
    "'''\n",
    "\n",
    "def shiftedBinarySearch(array, target):\n",
    "    # Write your code here.\n",
    "    start = 0\n",
    "    end = len(array)-1\n",
    "    while  start <= end:\n",
    "        mid = (start + end) // 2\n",
    "        if array[mid]==target:\n",
    "            return mid\n",
    "        elif array[mid]>=array[start]:\n",
    "            if array[mid] > target and target >= array[start]:\n",
    "                end=mid-1\n",
    "            else:\n",
    "                start=mid + 1\n",
    "        else:\n",
    "            if target > array[mid] and target <=array[end]:\n",
    "                start=mid+1\n",
    "            else:\n",
    "                end=mid - 1         \n",
    "    return -1\n",
    "\n",
    "\n",
    "'''\n",
    "TC -> O(logn)\n",
    "SC -> O(1)\n",
    "'''"
   ]
  },
  {
   "cell_type": "markdown",
   "metadata": {},
   "source": [
    "## Search For Range"
   ]
  },
  {
   "cell_type": "code",
   "execution_count": null,
   "metadata": {},
   "outputs": [],
   "source": [
    "def helper(array, target,isStarting):\n",
    "    start=0\n",
    "    end=len(array)-1\n",
    "    index = -1\n",
    "    while start <= end:\n",
    "        mid = (start+end)//2\n",
    "        if array[mid]==target:\n",
    "            if isStarting:\n",
    "                index = mid\n",
    "                end = mid -1\n",
    "            else:\n",
    "                index = mid\n",
    "                start = mid+1\n",
    "                \n",
    "        elif array[mid]> target:\n",
    "            end = mid-1\n",
    "        else:\n",
    "            start=mid+1\n",
    "    return index\n",
    "\n",
    "def searchForRange(array, target):\n",
    "    # Write your code here.\n",
    "    starting_index = helper(array, target,True)\n",
    "    ending_index = helper(array,target,False)\n",
    "    return [starting_index,ending_index]\n",
    "\n",
    "'''\n",
    "TC : O(logn)\n",
    "SC: O(1)\n",
    "'''"
   ]
  },
  {
   "cell_type": "markdown",
   "metadata": {},
   "source": [
    "## Binary Search"
   ]
  },
  {
   "cell_type": "code",
   "execution_count": null,
   "metadata": {},
   "outputs": [],
   "source": [
    "def binarySearch(array, target):\n",
    "    # Write your code here.\n",
    "    start = 0\n",
    "    end = len(array)-1\n",
    "    while start<=end :\n",
    "        mid = (start+end)//2\n",
    "        if array[mid] == target:\n",
    "            return mid\n",
    "        \n",
    "        elif target > array[mid]:\n",
    "            start = mid + 1\n",
    "        else:\n",
    "            end = mid - 1\n",
    "            \n",
    "    return -1\n"
   ]
  },
  {
   "cell_type": "markdown",
   "metadata": {},
   "source": [
    "## Find Three largest number"
   ]
  },
  {
   "cell_type": "code",
   "execution_count": null,
   "metadata": {},
   "outputs": [],
   "source": [
    "def findThreeLargestNumbers(array):\n",
    "    # Write your code here.\n",
    "    resultArray =  [None]*3\n",
    "    for num in array:\n",
    "        updateLargest(resultArray,num)\n",
    "    return resultArray\n",
    "def updateLargest(resultArray,num):\n",
    "    if resultArray[2] is None  or num > resultArray[2]:\n",
    "        shiftAndUpdate(resultArray,num,2)\n",
    "    elif resultArray[1] is None  or num > resultArray[1]:\n",
    "        shiftAndUpdate(resultArray,num,1)\n",
    "    elif resultArray[0] is None  or num > resultArray[0]:\n",
    "        shiftAndUpdate(resultArray,num,0)\n",
    "\n",
    "def shiftAndUpdate(resultArray,num,idx):\n",
    "    for i in range(idx+1):\n",
    "        if i==idx:\n",
    "            resultArray[idx]=num\n",
    "        else:\n",
    "            resultArray[i]=resultArray[i+1]\n",
    "        \n",
    "         "
   ]
  },
  {
   "cell_type": "markdown",
   "metadata": {},
   "source": [
    "## QuickSelect"
   ]
  },
  {
   "cell_type": "code",
   "execution_count": null,
   "metadata": {},
   "outputs": [],
   "source": [
    "'''\n",
    "Quick Select is a searching algorithm to find a nth smallest number using quick sort algo\n",
    "\n",
    "But the difference here is that after each time we find the ideal position of the pivot, we only have to look for the element in either of the subarrays\n",
    "Apply quick ssort\n",
    "after swapping the pivot and the right position element\n",
    "check if the target position is equal to the right position , if true return the element at the right position\n",
    "else if target position is greater than right position, set start = right + 1\n",
    "else set start = left - 1\n",
    "'''\n",
    "\n",
    "def swap(array,elem1,elem2):\n",
    "    array[elem1],array[elem2]= array[elem2],array[elem1]\n",
    "def helper(array,start,end,target_position):\n",
    "    while True:\n",
    "        left=start+1\n",
    "        pivot=start\n",
    "        right=end\n",
    "        while left<=right:\n",
    "            if array[left]>array[pivot] and array[right]<array[pivot]:\n",
    "                swap(array,left,right)\n",
    "            elif array[left]<=array[pivot]:\n",
    "                left+=1\n",
    "            elif array[right]>=array[pivot]:\n",
    "                right-=1\n",
    "        swap(array,pivot,right)\n",
    "        if right==target_position:\n",
    "            return array[right]\n",
    "        elif  right < target_position:\n",
    "            start = right + 1\n",
    "        else:\n",
    "            end = right -1\n",
    "        \n",
    "def quickselect(array, k):\n",
    "    return helper(array,0,len(array)-1,k-1)\n",
    "    \n",
    "    # Write your code here.\n",
    "\n",
    "\n",
    "'''\n",
    "TC : Best and Avg - O(n)\n",
    "    Worst - O(n^2) if pivot divided the array into one v small subarray and one v large subarray\n",
    "SC: O(1)\n",
    "'''"
   ]
  },
  {
   "cell_type": "markdown",
   "metadata": {},
   "source": [
    "## Index Equals Value"
   ]
  },
  {
   "cell_type": "code",
   "execution_count": null,
   "metadata": {},
   "outputs": [],
   "source": [
    "'''\n",
    "Given a sorted array in increasing order, find the least index where index == array[index]\n",
    "if not found return -1\n",
    "\n",
    "use binary search problem and solve using the logic similar to logic of search for range question\n",
    "if mid == array[mid]\n",
    "    then assign mid to index variable\n",
    "    and now look for smaller index in the subarray to left of the mid\n",
    "elif array[mid]> mid\n",
    "    end = mid -1 \n",
    "else\n",
    "    start = mid + 1\n",
    "'''\n",
    "\n",
    "def indexEqualsValue(array):\n",
    "    # Write your code here.\n",
    "    start= 0\n",
    "    end = len(array)-1\n",
    "    index = -1 \n",
    "    while start<=end:\n",
    "        mid =(start+end)//2\n",
    "        if array[mid]==mid:\n",
    "            index = mid\n",
    "            end =  mid-1\n",
    "        elif array[mid] < mid:\n",
    "            start = mid + 1\n",
    "        else:\n",
    "            end = mid -1\n",
    "\n",
    "    return index\n",
    "'''\n",
    "TC: O(logn)\n",
    "SC: O(1)\n",
    "'''"
   ]
  },
  {
   "cell_type": "markdown",
   "metadata": {},
   "source": []
  }
 ],
 "metadata": {
  "kernelspec": {
   "display_name": "Python 3.9.9 64-bit",
   "language": "python",
   "name": "python3"
  },
  "language_info": {
   "codemirror_mode": {
    "name": "ipython",
    "version": 3
   },
   "file_extension": ".py",
   "mimetype": "text/x-python",
   "name": "python",
   "nbconvert_exporter": "python",
   "pygments_lexer": "ipython3",
   "version": "3.9.9"
  },
  "orig_nbformat": 4,
  "vscode": {
   "interpreter": {
    "hash": "a2380b3ac67e11a2771676335a3337e287ca0a6748d6715149e47ec6f38f5651"
   }
  }
 },
 "nbformat": 4,
 "nbformat_minor": 2
}
