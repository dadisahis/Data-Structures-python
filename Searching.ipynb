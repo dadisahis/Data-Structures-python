{
 "cells": [
  {
   "cell_type": "markdown",
   "metadata": {},
   "source": [
    "## Shifted Binary Search"
   ]
  },
  {
   "cell_type": "code",
   "execution_count": 2,
   "metadata": {},
   "outputs": [],
   "source": [
    "'''\n",
    "Introduction \n",
    "Given a sorted array which maybe left or right shifted multiple times find the target number and return the index if found or return -1 if not found\n",
    "Intuition\n",
    "Just like binary search use the same approach, run a while loop until start > end where start is 0th index and end is len(array)-1 index\n",
    "Calculate mid => (start+end)//2\n",
    "if array[mid]==target:\n",
    "    return true\n",
    "Now if above is not true\n",
    "check if array[mid]>= array[start]\n",
    "    check if array[mid] > target and target <= array[start]\n",
    "        if true eliminate right subarray\n",
    "    else\n",
    "        eliminate left subarray\n",
    "else\n",
    "    check if array[mid] < target and target <= array[end]\n",
    "        eliminate left subarray\n",
    "    else\n",
    "    eliminate right subarray\n",
    "\n",
    "'''\n",
    "\n",
    "def shiftedBinarySearch(array, target):\n",
    "    # Write your code here.\n",
    "    start = 0\n",
    "    end = len(array)-1\n",
    "    while  start <= end:\n",
    "        mid = (start + end) // 2\n",
    "        if array[mid]==target:\n",
    "            return mid\n",
    "        elif array[mid]>=array[start]:\n",
    "            if array[mid] > target and target >= array[start]:\n",
    "                end=mid-1\n",
    "            else:\n",
    "                start=mid + 1\n",
    "        else:\n",
    "            if target > array[mid] and target <=array[end]:\n",
    "                start=mid+1\n",
    "            else:\n",
    "                end=mid - 1         \n",
    "    return -1\n",
    "\n",
    "\n",
    "'''\n",
    "TC -> O(logn)\n",
    "SC -> O(1)\n",
    "'''"
   ]
  },
  {
   "cell_type": "code",
   "execution_count": null,
   "metadata": {},
   "outputs": [],
   "source": []
  }
 ],
 "metadata": {
  "kernelspec": {
   "display_name": "Python 3.9.9 64-bit",
   "language": "python",
   "name": "python3"
  },
  "language_info": {
   "codemirror_mode": {
    "name": "ipython",
    "version": 3
   },
   "file_extension": ".py",
   "mimetype": "text/x-python",
   "name": "python",
   "nbconvert_exporter": "python",
   "pygments_lexer": "ipython3",
   "version": "3.9.9"
  },
  "orig_nbformat": 4,
  "vscode": {
   "interpreter": {
    "hash": "a2380b3ac67e11a2771676335a3337e287ca0a6748d6715149e47ec6f38f5651"
   }
  }
 },
 "nbformat": 4,
 "nbformat_minor": 2
}
