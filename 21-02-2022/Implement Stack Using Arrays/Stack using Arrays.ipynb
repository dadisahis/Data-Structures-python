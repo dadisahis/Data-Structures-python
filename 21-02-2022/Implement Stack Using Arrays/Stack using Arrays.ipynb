{
 "cells": [
  {
   "cell_type": "code",
   "execution_count": 7,
   "metadata": {},
   "outputs": [
    {
     "name": "stdout",
     "output_type": "stream",
     "text": [
      "5\n",
      "3\n",
      "2\n",
      "8\n"
     ]
    },
    {
     "data": {
      "text/plain": [
       "3"
      ]
     },
     "execution_count": 7,
     "metadata": {},
     "output_type": "execute_result"
    }
   ],
   "source": [
    "class Stack:\n",
    "\n",
    "    def __init__(self):\n",
    "        self.array=[]\n",
    "        self.top=-1\n",
    "    def push(self,number) -> any:\n",
    "        self.top+=1\n",
    "        self.array.append(number)\n",
    "        return\n",
    "    def pop(self) -> int:\n",
    "        self.pop_number = self.array[self.top]\n",
    "        self.top-=1\n",
    "        return self.pop_number\n",
    "    def top(self)-> int:\n",
    "        return self.array[self.top]\n",
    "    def size(self) -> int:\n",
    "        c=0\n",
    "        for i in range(len(self.array)):\n",
    "            c+=1\n",
    "            if i==self.top:\n",
    "                break\n",
    "        return c\n",
    "    def display(self) -> None:\n",
    "        for i in range(len(self.array)):\n",
    "            print(self.array[i],sep='')\n",
    "            if i==self.top:\n",
    "                break\n",
    "stack=Stack()\n",
    "stack.push(5)\n",
    "stack.push(3)\n",
    "stack.push(2)\n",
    "stack.push(8)\n",
    "\n",
    "stack.display()\n",
    "stack.pop()\n",
    "stack.top\n",
    "stack.size()\n",
    "\n",
    "\n"
   ]
  },
  {
   "cell_type": "code",
   "execution_count": 11,
   "metadata": {},
   "outputs": [
    {
     "name": "stdout",
     "output_type": "stream",
     "text": [
      "[9, 5, 3, -2, -7]\n"
     ]
    }
   ],
   "source": [
    "class Solution:\n",
    "    # your task is to complete this function\n",
    "    # function sort the stack such that top element is max\n",
    "    # funciton should return nothing\n",
    "    # s is a stack\n",
    "    def recursiveStack(self,stack,result,c):\n",
    "        if stack==[]:\n",
    "            return result\n",
    "        max_element=max(stack)\n",
    "        result[c]=max_element\n",
    "        index=stack.index(max_element)\n",
    "        stack.pop(index)\n",
    "        return self.recursiveStack(stack,result,c+1)\n",
    "    def sorted(self, s):\n",
    "        # Code here\n",
    "        new_array=['']*len(s)\n",
    "        result=self.recursiveStack(s,new_array,0)\n",
    "        for i in result:\n",
    "            s.append(i)\n",
    "        return s\n",
    "ob=Solution()\n",
    "arr=[5,-2,9,-7,3]\n",
    "ob.sorted(arr)\n"
   ]
  }
 ],
 "metadata": {
  "interpreter": {
   "hash": "c96291010f7a844ee02fb384facd57d68384d0c55b508665bf5452864442687c"
  },
  "kernelspec": {
   "display_name": "Python 3.9.9 64-bit",
   "language": "python",
   "name": "python3"
  },
  "language_info": {
   "codemirror_mode": {
    "name": "ipython",
    "version": 3
   },
   "file_extension": ".py",
   "mimetype": "text/x-python",
   "name": "python",
   "nbconvert_exporter": "python",
   "pygments_lexer": "ipython3",
   "version": "3.9.9"
  },
  "orig_nbformat": 4
 },
 "nbformat": 4,
 "nbformat_minor": 2
}
